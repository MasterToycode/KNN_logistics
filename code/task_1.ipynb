{
 "cells": [
  {
   "cell_type": "markdown",
   "metadata": {},
   "source": [
    "# 数据读取代码"
   ]
  },
  {
   "cell_type": "code",
   "execution_count": 1,
   "metadata": {},
   "outputs": [],
   "source": [
    "import numpy as np\n",
    "from scipy.io import loadmat\n",
    "\n",
    "def load_data():\n",
    "    '''\n",
    "    fea:特征矩阵，大小为400×1024,每一行是一个样本\n",
    "    gnd:400×1的列向量,每一行的数字表示当前这个样本的类别，一共40个类别\n",
    "    '''\n",
    "    data=loadmat('../ORL_32x32.mat')\n",
    "    fea= data['fea'].astype(np.float32)\n",
    "    gnd= data['gnd'].astype(np.float32)\n",
    "    return data,fea,gnd\n",
    "\n"
   ]
  },
  {
   "cell_type": "markdown",
   "metadata": {},
   "source": [
    "# 数据集划分代码"
   ]
  },
  {
   "cell_type": "code",
   "execution_count": 2,
   "metadata": {},
   "outputs": [],
   "source": [
    "def dataSplit(fea, gnd, ntr=6):\n",
    "    '''\n",
    "    将数据随机划分为训练集和测试集，其中每个类别的训练样本数为 ntr，其余作为测试集。\n",
    "    ntr: 每个类别的训练样本数\n",
    "    '''\n",
    "    # 获取总样本数和特征维度\n",
    "    num_samples, feature_dim = fea.shape\n",
    "    # 获取唯一类别\n",
    "    \n",
    "    unique_classes = np.unique(gnd)\n",
    "    trainData = []\n",
    "    trainGnd = []\n",
    "    testData = []\n",
    "    testGnd = []\n",
    "    \n",
    "    for cls in unique_classes:\n",
    "        # 获取当前类别的样本索引\n",
    "        cls_indices = np.where(gnd == cls)[0]\n",
    "        np.random.shuffle(cls_indices)  # 随机打乱\n",
    "        \n",
    "        # 分割为训练集和测试集\n",
    "        train_indices = cls_indices[:ntr]\n",
    "        test_indices = cls_indices[ntr:]\n",
    "        \n",
    "        # 添加到训练集和测试集\n",
    "        trainData.append(fea[train_indices])\n",
    "        trainGnd.append(gnd[train_indices])\n",
    "        testData.append(fea[test_indices])\n",
    "        testGnd.append(gnd[test_indices])\n",
    "    \n",
    "    # 合并每个类别的样本，按照行方向进行拼接\n",
    "    trainData = np.vstack(trainData)\n",
    "    trainGnd = np.vstack(trainGnd)\n",
    "    testData = np.vstack(testData)\n",
    "    testGnd = np.vstack(testGnd)\n",
    "    \n",
    "    return trainData, trainGnd, testData, testGnd\n"
   ]
  },
  {
   "cell_type": "markdown",
   "metadata": {},
   "source": [
    "# 数据集划分测试代码"
   ]
  },
  {
   "cell_type": "code",
   "execution_count": 3,
   "metadata": {},
   "outputs": [
    {
     "name": "stdout",
     "output_type": "stream",
     "text": [
      "训练集特征矩阵形状: (240, 1024)\n",
      "训练集标签向量形状: (240, 1)\n",
      "测试集特征矩阵形状: (160, 1024)\n",
      "测试集标签向量形状: (160, 1)\n"
     ]
    }
   ],
   "source": [
    "data, fea, gnd = load_data()\n",
    "trainData, trainGnd, testData, testGnd = dataSplit(fea, gnd, ntr=6)\n",
    "\n",
    "print(\"训练集特征矩阵形状:\", trainData.shape)\n",
    "print(\"训练集标签向量形状:\", trainGnd.shape)\n",
    "print(\"测试集特征矩阵形状:\", testData.shape)\n",
    "print(\"测试集标签向量形状:\", testGnd.shape)\n"
   ]
  }
 ],
 "metadata": {
  "kernelspec": {
   "display_name": "Python 3",
   "language": "python",
   "name": "python3"
  },
  "language_info": {
   "codemirror_mode": {
    "name": "ipython",
    "version": 3
   },
   "file_extension": ".py",
   "mimetype": "text/x-python",
   "name": "python",
   "nbconvert_exporter": "python",
   "pygments_lexer": "ipython3",
   "version": "3.11.3"
  }
 },
 "nbformat": 4,
 "nbformat_minor": 2
}
